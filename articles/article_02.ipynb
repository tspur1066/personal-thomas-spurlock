{
  "cells": [
    {
      "cell_type": "raw",
      "metadata": {},
      "source": [
        "---\n",
        "title: Determining Evenness via Recursion\n",
        "---"
      ],
      "id": "42569329"
    },
    {
      "cell_type": "markdown",
      "metadata": {},
      "source": [
        "## The Problem\n",
        "\n",
        "This problem is ALSO taken from *Eloquent Javascript*. If curious, it lives [here](https://eloquentjavascript.net/03_functions.html#i_jxl1p970Fy){target=\"_blank\"}, and it is usually welcoming to visitors.\n",
        "\n",
        "\"We’ve seen that % (the remainder operator) can be used to test whether a number is even or odd by using % 2 to see whether it’s divisible by two. Here’s another way to define whether a positive whole number is even or odd:\n",
        "\n",
        "-Zero is even.\n",
        "\n",
        "-One is odd.\n",
        "\n",
        "-For any other number N, its evenness is the same as N - 2.\n",
        "\n",
        "Define a recursive function isEven corresponding to this description. The function should accept a single parameter (a positive, whole number) and return a Boolean.\n",
        "\n",
        "Test it on 50 and 75. See how it behaves on -1. Why? Can you think of a way to fix this?\"\n",
        "\n",
        "What Haverbeke is asking the strapping young reader to do here is to create a function that, using recursion, determines whether a number is even or not. It must return either TRUE or FALSE, and it must determine evenness by using the N - 2 technique: if a whole number, when subtracted by 2 enough times, eventually equals 0, it is even, or eventually equals 1, it is odd. \n",
        "\n",
        "## The Solution\n",
        "\n",
        "First, we define the function isEven:\n",
        "\n",
        "\n",
        "```{js}\n",
        "const isEven = function(x) {\n",
        "    if (x < 0) {\n",
        "        return console.log(\"!!!!x must be a positive number!!!!\");\n",
        "    }\n",
        "    if (x == 1) {\n",
        "        return console.log(false);\n",
        "    } else if (x == 0) {\n",
        "        return console.log(true);\n",
        "    } else return isEven(x - 2);\n",
        "}\n",
        "\n",
        "isEven(50);\n",
        "isEven(75);\n",
        "```\n",
        "\n",
        "\n",
        "As requested by the problem, let's test it on 50 and 75:\n",
        "\n",
        "\n",
        "```{js}\n",
        "\n",
        "isEven(50);\n",
        "isEven(75);\n",
        "\n",
        "```\n",
        "\n",
        "\n",
        "isEven is a function accepting a single positive number, x, that returns either \"true\" if the number is even, or \"false\" if the number is odd. But let's break it down:\n",
        "\n",
        "We first set up a \"negative gate\", as I'll call it. Essentially, the function tests"
      ],
      "id": "195ab23c"
    }
  ],
  "metadata": {
    "kernelspec": {
      "display_name": "Python 3",
      "language": "python",
      "name": "python3"
    }
  },
  "nbformat": 4,
  "nbformat_minor": 5
}